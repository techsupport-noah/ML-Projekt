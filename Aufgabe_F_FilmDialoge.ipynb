{
 "cells": [
  {
   "cell_type": "markdown",
   "metadata": {},
   "source": [
    "# Aufgabe-F-FilmDialoge"
   ]
  },
  {
   "cell_type": "markdown",
   "metadata": {},
   "source": [
    "## Allgemeines\n",
    "\n",
    "Eine allgemeine Beschreibung der Laboraufgaben inklusive des Vorgehens, den Bewertungsrichtlinien und der Abgabe finden Sie  <a href=\"ML-allgemein.ipynb\">hier</a>"
   ]
  },
  {
   "cell_type": "markdown",
   "metadata": {},
   "source": [
    "## Datenquelle\n",
    "\n",
    "\n",
    "* Laden Sie ihre Daten von http://141.72.190.207/ml_lab/F_dialoge herunter\n",
    "    * Die Daten sind geschützt. \n",
    "        * Sie müssen evtl. in einem Netzwerk der DHBW (z.B. WLAN, VPN, ...) angemeldet sein. \n",
    "        * Sie können sich auf der Webseite mit dem Benutzernamen dhbw und dem Zugangsnamen \"ml_LaB_4$\" anmelden. \n",
    "* Die Daten sind in einem anwendungsspezifischen Format gespeichert.\n",
    "    * Sie finden evtl. Informationen über die Daten in einer \"README\" Datei. \n",
    "    * Finden Sie keine solche Datei sind die Daten selbst erklärend. \n",
    "    \n",
    "    \n",
    "\n"
   ]
  },
  {
   "cell_type": "markdown",
   "metadata": {},
   "source": [
    "## Aufgabe"
   ]
  },
  {
   "cell_type": "markdown",
   "metadata": {},
   "source": [
    "Die Daten-Sammlung \n",
    "* besteht aus Dialogen aus verschiedensten Filmen\n",
    "* ist in der Readme Datei beschrieben\n",
    "\n",
    "Erstellen Sie aus den einen Chatbot, der auf eine Frage mit einer Antwort im \"Filmjargon\" antwortet! \n",
    "* Verwenden Sie tiefe Neuronale Netze zu Erstellen des Chatbots! \n",
    "* Passen Sie den Chatbot so an, dass er für unterschiedliche Film-Genres unterschiedlich antwortet! \n"
   ]
  },
  {
   "cell_type": "markdown",
   "metadata": {},
   "source": [
    "# Lösung\n",
    "\n",
    "Die Lösung der Aufgabe besteht aus mehreren Teilschritten, welche im Folgenden kurz genannt werden:\n",
    "\n",
    "* Daten einlesen\n",
    "* Daten vorverarbeiten\n",
    "* Model erstellen\n",
    "* Model trainieren\n",
    "* Model abspeichern\n",
    "* Model ausführen\n"
   ]
  },
  {
   "cell_type": "markdown",
   "metadata": {},
   "source": [
    "# Abhängigkeiten des Projekts\n",
    "\n",
    "* Tensorflow 2.8.2"
   ]
  },
  {
   "cell_type": "code",
   "execution_count": 1,
   "metadata": {},
   "outputs": [],
   "source": [
    "import tensorflow as tf\n",
    "import random \n",
    "import re #re = regular expressions\n",
    "import os\n",
    "import numpy as np \n",
    "from collections import Counter\n",
    "from tensorflow.keras.preprocessing.text import Tokenizer\n",
    "from tensorflow.keras.preprocessing.sequence import pad_sequences\n",
    "from tensorflow.keras.layers import Dense, Embedding, LSTM, Input\n",
    "from tensorflow.keras.models import Model\n",
    "from tensorflow.keras.utils import to_categorical\n",
    "from sklearn.model_selection import train_test_split\n",
    "from matplotlib import pyplot as plt"
   ]
  },
  {
   "cell_type": "markdown",
   "metadata": {},
   "source": [
    "# Eigene Abhängigkeiten des Projekts\n",
    "\n",
    "* "
   ]
  },
  {
   "cell_type": "code",
   "execution_count": 2,
   "metadata": {},
   "outputs": [],
   "source": [
    "import src.data_helper as dh"
   ]
  },
  {
   "cell_type": "markdown",
   "metadata": {},
   "source": [
    "## Konstanten"
   ]
  },
  {
   "cell_type": "code",
   "execution_count": 3,
   "metadata": {},
   "outputs": [],
   "source": [
    "num_examples = 30000\n",
    "test_size = 0.2"
   ]
  },
  {
   "cell_type": "markdown",
   "metadata": {},
   "source": [
    "# Daten einlesen\n",
    "\n",
    "Hier werden zuerst die rohen Daten eingelesen und innerhalb der Hilfsfunktion \"readDataToLines\" mit des \"newline\" Zeichen getrennt. Die Daten werden zwei Listen gespeichert, welche dann zurückgegeben werden.\n",
    "Verwendet wurden folgende Funktionen:\n",
    "\n",
    "* \"open\" um die Datei zu öffnen\n",
    "* \"read\" um die Datei zu lesen\n",
    "* \"split\" um die Daten anhand des \"newline\" Zeichen zu trennen und in einer Liste zu speichern"
   ]
  },
  {
   "cell_type": "code",
   "execution_count": 4,
   "metadata": {},
   "outputs": [],
   "source": [
    "# read the data from the files\n",
    "movie_lines, movie_conversations = dh.readDataToLines(\"data/unzipped/movie_lines.txt\", \"data/unzipped/movie_conversations.txt\")"
   ]
  },
  {
   "cell_type": "markdown",
   "metadata": {},
   "source": [
    "# Daten vorverarbeiten"
   ]
  },
  {
   "cell_type": "code",
   "execution_count": 5,
   "metadata": {},
   "outputs": [
    {
     "name": "stdout",
     "output_type": "stream",
     "text": [
      "Länge Fragen: 221616\n",
      "Länge Antworten: 221616\n"
     ]
    }
   ],
   "source": [
    "# extract and mix conversations to a list\n",
    "conversations_list = dh.readConversationsToList(movie_conversations)\n",
    "random.shuffle(conversations_list)\n",
    "\n",
    "# create a dictionary that maps each line id to the corresponding line\n",
    "id2line = dh.readLinesToDict(movie_lines)\n",
    "\n",
    "# remove all unnecessary characters from the lines and replace short forms with the full words\n",
    "id2line = dh.cleanLines(id2line)\n",
    "\n",
    "# split the conversations into requests and responses, each answer is used as a request for the next answer\n",
    "requests, responses = dh.splitConversationsToRequestAndResponse(conversations_list, id2line)\n",
    "\n",
    "print(f\"Länge Fragen: {len(requests)}\")\n",
    "print(f\"Länge Antworten: {len(responses)}\")\n",
    "\n",
    "# delete temporary variables\n",
    "del(movie_lines, movie_conversations, conversations_list, id2line)"
   ]
  },
  {
   "cell_type": "markdown",
   "metadata": {},
   "source": [
    "### Parameter wählen"
   ]
  },
  {
   "cell_type": "code",
   "execution_count": 6,
   "metadata": {},
   "outputs": [
    {
     "data": {
      "image/png": "[encoded data removed]",
      "text/plain": [
       "<Figure size 640x480 with 1 Axes>"
      ]
     },
     "metadata": {},
     "output_type": "display_data"
    }
   ],
   "source": [
    "#os.environ[\"KMP_DUPLICATE_LIB_OK\"]=\"TRUE\"\n",
    "\n",
    "# get the length of each line of the requests and save the occurrences in a dictionary\n",
    "lengths_request = {}\n",
    "for sentence in requests:\n",
    "    length = len(sentence)\n",
    "    if length in lengths_request:\n",
    "        lengths_request[length] += 1\n",
    "    else:\n",
    "        lengths_request[length] = 1\n",
    "\n",
    "# get the length of each line of the responses and save the occurrences in a dictionary\n",
    "lengths_response = {}\n",
    "for sentence in responses:\n",
    "    length = len(sentence)\n",
    "    if length in lengths_response:\n",
    "        lengths_response[length] += 1\n",
    "    else:\n",
    "        lengths_response[length] = 1\n",
    "\n",
    "# plot the occurrences of the lengths of the requests and responses in the same plot while only showind x values up to 200\n",
    "plt.bar(lengths_request.keys(), lengths_request.values(), label=\"request\")\n",
    "plt.bar(lengths_response.keys(), lengths_response.values(), label=\"response\")\n",
    "plt.xlim(0, 400)\n",
    "plt.legend()\n",
    "plt.show()"
   ]
  },
  {
   "cell_type": "code",
   "execution_count": 7,
   "metadata": {},
   "outputs": [
    {
     "name": "stdout",
     "output_type": "stream",
     "text": [
      "Länge Fragen: 196695\n",
      "Länge Antworten: 196695\n"
     ]
    }
   ],
   "source": [
    "# based on the result set the parameters\n",
    "max_wordcount_in_sentence = 30\n",
    "\n",
    "# delete requests/responses with length > max_wordcount_in_sentence\n",
    "requests, responses = dh.removeLongSequences(requests, responses, 1, max_wordcount_in_sentence)\n",
    "\n",
    "print(f\"Länge Fragen: {len(requests)}\")\n",
    "print(f\"Länge Antworten: {len(responses)}\")\n"
   ]
  },
  {
   "cell_type": "code",
   "execution_count": 8,
   "metadata": {},
   "outputs": [],
   "source": [
    "# limit the size of the dataset\n",
    "requests = requests[:num_examples]\n",
    "responses = responses[:num_examples]\n",
    "\n",
    "# encapsule the requests and responses with the tokens <S> (Start) and <E> (End)\n",
    "requests = dh.encapsuleWithTokens(requests, '<S>', '<E>')\n",
    "responses = dh.encapsuleWithTokens(responses, 'S', '<E>')\n",
    "\n",
    "\n",
    "# get a dictionary of all unique words with their frequency\n",
    "word2count = dh.getWord2Count(requests, responses)\n",
    "\n",
    "# filter out words with a frequency of 5 or less\n",
    "min_wordFrequency = 20\n",
    "word2count = {k:v for k,v in word2count.items() if v > min_wordFrequency}"
   ]
  },
  {
   "cell_type": "markdown",
   "metadata": {},
   "source": [
    "Wie man in der obigen Grafik erkennt, sind ab einer Sequenzlänge von 200 nur noch wenige Daten vorhanden. Da die Sequenzlänge maßgeblich auch für den Speicherbedarf in weiteren Schritten ist, wird diese hier auf 200 begrenzt."
   ]
  },
  {
   "cell_type": "code",
   "execution_count": 9,
   "metadata": {},
   "outputs": [
    {
     "name": "stdout",
     "output_type": "stream",
     "text": [
      "Größe des Wörterbuchs:  19807\n"
     ]
    }
   ],
   "source": [
    "oov_token = '<UNK>'\n",
    "maxlen = len(word2count) + 1\n",
    "del(word2count)\n",
    "\n",
    "\n",
    "tokenizer = Tokenizer(num_words=maxlen, oov_token=oov_token)\n",
    "tokenizer.fit_on_texts(requests)\n",
    "tokenizer.fit_on_texts(responses)\n",
    "\n",
    "word2index = tokenizer.word_index\n",
    "index2word ={k:v for v,k in word2index.items()}\n",
    "print('Größe des Wörterbuchs: ',len(word2index))\n",
    "\n",
    "np.save(arr=word2index, file=\"data/word2index.dict\")\n",
    "np.save(arr=index2word, file=\"data/index2word.dict\")"
   ]
  },
  {
   "cell_type": "code",
   "execution_count": 10,
   "metadata": {},
   "outputs": [],
   "source": [
    "input_tensor = tokenizer.texts_to_sequences(requests)\n",
    "target_tensor = tokenizer.texts_to_sequences(responses)\n",
    "\n",
    "max_sen_length = dh.get_maximum_sentence_length(input_tensor, target_tensor)\n",
    "\n",
    "\n",
    "pad_type = 'post'\n",
    "trunc_type = 'post'\n",
    "\n",
    "input_tensor = pad_sequences(input_tensor, padding=pad_type, truncating=trunc_type, maxlen=max_sen_length)\n",
    "target_tensor = pad_sequences(target_tensor, padding=pad_type, truncating=trunc_type, maxlen=max_sen_length)\n"
   ]
  },
  {
   "cell_type": "code",
   "execution_count": 11,
   "metadata": {},
   "outputs": [],
   "source": [
    "input_encoder_train, input_encoder_val, input_decoder_train, input_decoder_val = train_test_split(input_tensor, target_tensor, test_size=test_size)\n",
    "\n",
    "# Decoder Output erstellen\n",
    "output_decoder_train = [i[1:] for i in input_decoder_train]\n",
    "output_decoder_val = [i[1:] for i in input_decoder_val]\n",
    "\n",
    "#Dimension erhöhen\n",
    "output_decoder_train = pad_sequences(output_decoder_train, padding=pad_type, truncating=trunc_type, maxlen=max_sen_length)\n",
    "output_decoder_val = pad_sequences(output_decoder_val, padding=pad_type, truncating=trunc_type, maxlen=max_sen_length)\n",
    "\n",
    "# convert the decoder input to a one-hot encoded vector which the model can use\n",
    "output_decoder_train = tf.keras.utils.to_categorical(output_decoder_train, num_classes=len(word2index), dtype=\"float32\") # using float32 even though it's memory intensive because later steps need it to be float32\n",
    "output_decoder_val = tf.keras.utils.to_categorical(output_decoder_val, num_classes=len(word2index), dtype=\"float32\")"
   ]
  },
  {
   "cell_type": "markdown",
   "metadata": {},
   "source": [
    "# Model erstellen"
   ]
  },
  {
   "attachments": {},
   "cell_type": "markdown",
   "metadata": {},
   "source": [
    "## Hyperparameter"
   ]
  },
  {
   "cell_type": "code",
   "execution_count": 12,
   "metadata": {},
   "outputs": [],
   "source": [
    "outputDimension = 50 \n",
    "lstm_units = 256\n",
    "max_sentence_length = max_sen_length"
   ]
  },
  {
   "attachments": {},
   "cell_type": "markdown",
   "metadata": {},
   "source": [
    "## Encoder\n",
    "- Input\n",
    "- Embedding\n",
    "- LSTM"
   ]
  },
  {
   "cell_type": "code",
   "execution_count": 13,
   "metadata": {},
   "outputs": [],
   "source": [
    "# input tensor for the encoder, shape of each vector is determined by max_length which was also used to pad the data\n",
    "inputEncoderTensor = tf.keras.Input(shape=(max_sentence_length, ), name = \"inputEncoderTensor\")\n",
    "\n",
    "# embedding layer of the encoder, the input is the input tensor, the output is the embedding tensor\n",
    "encoderEmbedding = tf.keras.layers.Embedding(len(word2index) + 1, output_dim = outputDimension, input_length = max_sentence_length, trainable = True, name = \"embeddingEncoderLayer\")(inputEncoderTensor)\n",
    "\n",
    "# LSTM layer of the encoder, the input is the embedding tensor, the output is the output tensor and the hidden state of the encoder\n",
    "encoderLSTM, encoderHiddenState, encoderCellState = tf.keras.layers.LSTM(units = lstm_units, return_sequences = True, return_state = True, name = \"lstmEncoderLayer\")(encoderEmbedding)"
   ]
  },
  {
   "attachments": {},
   "cell_type": "markdown",
   "metadata": {},
   "source": [
    "## Decoder\n",
    "- Input\n",
    "- Embedding\n",
    "- LSTM\n",
    "- Dense"
   ]
  },
  {
   "cell_type": "code",
   "execution_count": 14,
   "metadata": {},
   "outputs": [],
   "source": [
    "# input tensor for the decoder, shape of each vector is determined by max_length which was also used to pad the data\n",
    "inputDecoderTensor = tf.keras.Input(shape=(max_sentence_length, ), name=\"inputDecoderTensor\")\n",
    "\n",
    "# embedding layer of the decoder, the input is the input tensor, the output is the embedding tensor\n",
    "decoderEmbedding = tf.keras.layers.Embedding(len(word2index) + 1, output_dim = outputDimension, input_length = max_sentence_length, trainable = True, name = \"embeddingDecoderLayer\")(inputDecoderTensor)\n",
    "\n",
    "# LSTM layer of the decoder, the input is the embedding tensor and the state of the previous lstm layer, the output is the output tensor and the hidden state of the decoder\n",
    "decoderLSTM, decoderHiddenState, decoderCellState = tf.keras.layers.LSTM(units = lstm_units, return_sequences = True, return_state = True, name = \"lstmDecoderLayer\")(decoderEmbedding, initial_state = [encoderHiddenState, encoderCellState])\n",
    "\n",
    "# dense layer of the decoder, the input is the output tensor of the lstm layer, the output is the output tensor of the dense layer\n",
    "# the dense layer has the same number of units as the number of words in the dictionary because the output of the dense layer is a vector with a probability for each word in the dictionary\n",
    "decoderDense = tf.keras.layers.Dense(units = len(word2index), activation = \"softmax\", name = \"denseLayer\")(decoderLSTM)"
   ]
  },
  {
   "attachments": {},
   "cell_type": "markdown",
   "metadata": {},
   "source": [
    "## Summary"
   ]
  },
  {
   "cell_type": "code",
   "execution_count": 15,
   "metadata": {},
   "outputs": [
    {
     "name": "stdout",
     "output_type": "stream",
     "text": [
      "Model: \"model\"\n",
      "__________________________________________________________________________________________________\n",
      " Layer (type)                   Output Shape         Param #     Connected to                     \n",
      "==================================================================================================\n",
      " inputEncoderTensor (InputLayer  [(None, 32)]        0           []                               \n",
      " )                                                                                                \n",
      "                                                                                                  \n",
      " inputDecoderTensor (InputLayer  [(None, 32)]        0           []                               \n",
      " )                                                                                                \n",
      "                                                                                                  \n",
      " embeddingEncoderLayer (Embeddi  (None, 32, 50)      990400      ['inputEncoderTensor[0][0]']     \n",
      " ng)                                                                                              \n",
      "                                                                                                  \n",
      " embeddingDecoderLayer (Embeddi  (None, 32, 50)      990400      ['inputDecoderTensor[0][0]']     \n",
      " ng)                                                                                              \n",
      "                                                                                                  \n",
      " lstmEncoderLayer (LSTM)        [(None, 32, 256),    314368      ['embeddingEncoderLayer[0][0]']  \n",
      "                                 (None, 256),                                                     \n",
      "                                 (None, 256)]                                                     \n",
      "                                                                                                  \n",
      " lstmDecoderLayer (LSTM)        [(None, 32, 256),    314368      ['embeddingDecoderLayer[0][0]',  \n",
      "                                 (None, 256),                     'lstmEncoderLayer[0][1]',       \n",
      "                                 (None, 256)]                     'lstmEncoderLayer[0][2]']       \n",
      "                                                                                                  \n",
      " denseLayer (Dense)             (None, 32, 19807)    5090399     ['lstmDecoderLayer[0][0]']       \n",
      "                                                                                                  \n",
      "==================================================================================================\n",
      "Total params: 7,699,935\n",
      "Trainable params: 7,699,935\n",
      "Non-trainable params: 0\n",
      "__________________________________________________________________________________________________\n"
     ]
    }
   ],
   "source": [
    "# Define the model \n",
    "model = tf.keras.models.Model([inputEncoderTensor, inputDecoderTensor], decoderDense)\n",
    "\n",
    "# Compile the model\n",
    "model.compile(optimizer='adam', loss='categorical_crossentropy')\n",
    "\n",
    "model.summary()"
   ]
  },
  {
   "attachments": {},
   "cell_type": "markdown",
   "metadata": {},
   "source": [
    "# Trainieren des Models"
   ]
  },
  {
   "cell_type": "code",
   "execution_count": 16,
   "metadata": {},
   "outputs": [
    {
     "name": "stdout",
     "output_type": "stream",
     "text": [
      "Epoch 1/10\n",
      "750/750 [==============================] - 241s 314ms/step - loss: 1.8094\n",
      "Epoch 2/10\n",
      "750/750 [==============================] - 278s 370ms/step - loss: 1.4236\n",
      "Epoch 3/10\n",
      "750/750 [==============================] - 307s 409ms/step - loss: 1.3358\n",
      "Epoch 4/10\n",
      "750/750 [==============================] - 264s 351ms/step - loss: 1.2913\n",
      "Epoch 5/10\n",
      "750/750 [==============================] - 282s 376ms/step - loss: 1.2631\n",
      "Epoch 6/10\n",
      "750/750 [==============================] - 277s 369ms/step - loss: 1.2481\n",
      "Epoch 7/10\n",
      "750/750 [==============================] - 267s 356ms/step - loss: 1.2238\n",
      "Epoch 8/10\n",
      "750/750 [==============================] - 267s 356ms/step - loss: 1.2084\n",
      "Epoch 9/10\n",
      "750/750 [==============================] - 272s 363ms/step - loss: 1.1948\n",
      "Epoch 10/10\n",
      "750/750 [==============================] - 271s 361ms/step - loss: 1.1824\n",
      "188/188 [==============================] - 54s 263ms/step - loss: 1.2204\n"
     ]
    },
    {
     "ename": "TypeError",
     "evalue": "cannot unpack non-iterable float object",
     "output_type": "error",
     "traceback": [
      "\u001b[1;31m---------------------------------------------------------------------------\u001b[0m",
      "\u001b[1;31mTypeError\u001b[0m                                 Traceback (most recent call last)",
      "Cell \u001b[1;32mIn[16], line 10\u001b[0m\n\u001b[0;32m      7\u001b[0m model\u001b[39m.\u001b[39mfit(x\u001b[39m=\u001b[39m[input_encoder_train, input_decoder_train],y\u001b[39m=\u001b[39moutput_decoder_train , epochs\u001b[39m=\u001b[39m\u001b[39m10\u001b[39m, batch_size\u001b[39m=\u001b[39m\u001b[39m32\u001b[39m, callbacks\u001b[39m=\u001b[39m[earlyStopping])\n\u001b[0;32m      9\u001b[0m \u001b[39m# Evaluate the model on the validation set and store the results\u001b[39;00m\n\u001b[1;32m---> 10\u001b[0m loss, accuracy \u001b[39m=\u001b[39m model\u001b[39m.\u001b[39mevaluate([input_encoder_val, input_decoder_val], output_decoder_val)\n\u001b[0;32m     11\u001b[0m \u001b[39mprint\u001b[39m(\u001b[39m'\u001b[39m\u001b[39mTest loss:\u001b[39m\u001b[39m'\u001b[39m, loss)\n\u001b[0;32m     12\u001b[0m \u001b[39mprint\u001b[39m(\u001b[39m'\u001b[39m\u001b[39mTest accuracy:\u001b[39m\u001b[39m'\u001b[39m, accuracy)\n",
      "\u001b[1;31mTypeError\u001b[0m: cannot unpack non-iterable float object"
     ]
    }
   ],
   "source": [
    "# generate an early stopping callback to stop training when the validation loss stops improving so that the model doesn't overfit\n",
    "# waits 3 epochs before stopping\n",
    "# use val_loss as the metric because categorical_crossentropy calculates the difference between the predicted and actual values and by monitoring wether or not the loss would be decreasing or increasing we can see if the model is improving or not\n",
    "earlyStopping = tf.keras.callbacks.EarlyStopping(monitor='loss', patience=3)\n",
    "\n",
    "# Train the model on the training data and evaluate it on the validation data\n",
    "model.fit(x=[input_encoder_train, input_decoder_train],y=output_decoder_train , epochs=10, batch_size=32, callbacks=[earlyStopping])"
   ]
  },
  {
   "cell_type": "code",
   "execution_count": 18,
   "metadata": {},
   "outputs": [
    {
     "name": "stdout",
     "output_type": "stream",
     "text": [
      "188/188 [==============================] - 41s 218ms/step - loss: 1.2204\n",
      "Test loss: 1.2204091548919678\n"
     ]
    }
   ],
   "source": [
    "# Evaluate the model on the validation set and store the results\n",
    "\n",
    "loss = model.evaluate([input_encoder_val, input_decoder_val], output_decoder_val)\n",
    "print('Test loss:', loss)"
   ]
  },
  {
   "cell_type": "markdown",
   "metadata": {},
   "source": [
    "# Model abspeichern"
   ]
  },
  {
   "cell_type": "code",
   "execution_count": 19,
   "metadata": {},
   "outputs": [
    {
     "name": "stderr",
     "output_type": "stream",
     "text": [
      "c:\\Users\\noah\\anaconda3\\envs\\tensorflow_ml_stuff\\lib\\site-packages\\numpy\\lib\\npyio.py:716: VisibleDeprecationWarning: Creating an ndarray from ragged nested sequences (which is a list-or-tuple of lists-or-tuples-or ndarrays with different lengths or shapes) is deprecated. If you meant to do this, you must specify 'dtype=object' when creating the ndarray.\n",
      "  val = np.asanyarray(val)\n"
     ]
    }
   ],
   "source": [
    "# Modell speichern\n",
    "dh.save_model(model, 'chatbot.h5')\n",
    "\n",
    "# Gewichte speichern\n",
    "for layer in model.layers:\n",
    "    weights = layer.get_weights()\n",
    "    if weights != []:\n",
    "        np.savez(f'models/{layer.name}.npz', weights, dtype=object)"
   ]
  },
  {
   "attachments": {},
   "cell_type": "markdown",
   "metadata": {},
   "source": [
    "## Laden des Modells"
   ]
  },
  {
   "cell_type": "code",
   "execution_count": 20,
   "metadata": {},
   "outputs": [
    {
     "name": "stdout",
     "output_type": "stream",
     "text": [
      "Model: \"model_1\"\n",
      "__________________________________________________________________________________________________\n",
      " Layer (type)                   Output Shape         Param #     Connected to                     \n",
      "==================================================================================================\n",
      " input_2 (InputLayer)           [(None, 32)]         0           []                               \n",
      "                                                                                                  \n",
      " input_1 (InputLayer)           [(None, 32)]         0           []                               \n",
      "                                                                                                  \n",
      " embedding (Embedding)          (None, 32, 50)       990400      ['input_1[0][0]',                \n",
      "                                                                  'input_2[0][0]']                \n",
      "                                                                                                  \n",
      " lstm (LSTM)                    [(None, 32, 256),    314368      ['embedding[0][0]']              \n",
      "                                 (None, 256),                                                     \n",
      "                                 (None, 256)]                                                     \n",
      "                                                                                                  \n",
      " lstm_1 (LSTM)                  [(None, 32, 256),    314368      ['embedding[1][0]',              \n",
      "                                 (None, 256),                     'lstm[0][1]',                   \n",
      "                                 (None, 256)]                     'lstm[0][2]']                   \n",
      "                                                                                                  \n",
      " dense (Dense)                  (None, 32, 19807)    5090399     ['lstm_1[0][0]']                 \n",
      "                                                                                                  \n",
      "==================================================================================================\n",
      "Total params: 6,709,535\n",
      "Trainable params: 6,709,535\n",
      "Non-trainable params: 0\n",
      "__________________________________________________________________________________________________\n"
     ]
    },
    {
     "ename": "ValueError",
     "evalue": "Exception encountered when calling layer \"lstm_1\" (type LSTM).\n\nDimensions must be equal, but are 400 and 256 for '{{node MatMul_1}} = MatMul[T=DT_FLOAT, transpose_a=false, transpose_b=false](init_h, recurrent_kernel)' with input shapes: [?,400], [256,1024].\n\nCall arguments received by layer \"lstm_1\" (type LSTM):\n  • inputs=['tf.Tensor(shape=(None, 32, 50), dtype=float32)', 'tf.Tensor(shape=(None, 400), dtype=float32)', 'tf.Tensor(shape=(None, 400), dtype=float32)']\n  • mask=None\n  • training=None\n  • initial_state=None",
     "output_type": "error",
     "traceback": [
      "\u001b[1;31m---------------------------------------------------------------------------\u001b[0m",
      "\u001b[1;31mValueError\u001b[0m                                Traceback (most recent call last)",
      "Cell \u001b[1;32mIn[20], line 67\u001b[0m\n\u001b[0;32m     65\u001b[0m decoder_state_input_c_placeholder \u001b[39m=\u001b[39m Input(shape\u001b[39m=\u001b[39m(\u001b[39m400\u001b[39m, ))\n\u001b[0;32m     66\u001b[0m decoder_state_inputs_placeholder \u001b[39m=\u001b[39m [decoder_state_input_h_placeholder, decoder_state_input_c_placeholder]\n\u001b[1;32m---> 67\u001b[0m decoder_ouputs, state_h, state_c \u001b[39m=\u001b[39m decoder_lstm(decoder_embedding, initial_state\u001b[39m=\u001b[39;49mdecoder_state_inputs_placeholder)\n\u001b[0;32m     68\u001b[0m decoder_states \u001b[39m=\u001b[39m [state_h, state_c]\n\u001b[0;32m     69\u001b[0m \u001b[39m# Decoder-Modell erstellen\u001b[39;00m\n",
      "File \u001b[1;32mc:\\Users\\noah\\anaconda3\\envs\\tensorflow_ml_stuff\\lib\\site-packages\\keras\\layers\\rnn\\base_rnn.py:612\u001b[0m, in \u001b[0;36mRNN.__call__\u001b[1;34m(self, inputs, initial_state, constants, **kwargs)\u001b[0m\n\u001b[0;32m    610\u001b[0m \u001b[39m# Perform the call with temporarily replaced input_spec\u001b[39;00m\n\u001b[0;32m    611\u001b[0m \u001b[39mself\u001b[39m\u001b[39m.\u001b[39minput_spec \u001b[39m=\u001b[39m full_input_spec\n\u001b[1;32m--> 612\u001b[0m output \u001b[39m=\u001b[39m \u001b[39msuper\u001b[39m()\u001b[39m.\u001b[39m\u001b[39m__call__\u001b[39m(full_input, \u001b[39m*\u001b[39m\u001b[39m*\u001b[39mkwargs)\n\u001b[0;32m    613\u001b[0m \u001b[39m# Remove the additional_specs from input spec and keep the rest. It\u001b[39;00m\n\u001b[0;32m    614\u001b[0m \u001b[39m# is important to keep since the input spec was populated by\u001b[39;00m\n\u001b[0;32m    615\u001b[0m \u001b[39m# build(), and will be reused in the stateful=True.\u001b[39;00m\n\u001b[0;32m    616\u001b[0m \u001b[39mself\u001b[39m\u001b[39m.\u001b[39minput_spec \u001b[39m=\u001b[39m \u001b[39mself\u001b[39m\u001b[39m.\u001b[39minput_spec[: \u001b[39m-\u001b[39m\u001b[39mlen\u001b[39m(additional_specs)]\n",
      "File \u001b[1;32mc:\\Users\\noah\\anaconda3\\envs\\tensorflow_ml_stuff\\lib\\site-packages\\keras\\utils\\traceback_utils.py:70\u001b[0m, in \u001b[0;36mfilter_traceback.<locals>.error_handler\u001b[1;34m(*args, **kwargs)\u001b[0m\n\u001b[0;32m     67\u001b[0m     filtered_tb \u001b[39m=\u001b[39m _process_traceback_frames(e\u001b[39m.\u001b[39m__traceback__)\n\u001b[0;32m     68\u001b[0m     \u001b[39m# To get the full stack trace, call:\u001b[39;00m\n\u001b[0;32m     69\u001b[0m     \u001b[39m# `tf.debugging.disable_traceback_filtering()`\u001b[39;00m\n\u001b[1;32m---> 70\u001b[0m     \u001b[39mraise\u001b[39;00m e\u001b[39m.\u001b[39mwith_traceback(filtered_tb) \u001b[39mfrom\u001b[39;00m \u001b[39mNone\u001b[39m\n\u001b[0;32m     71\u001b[0m \u001b[39mfinally\u001b[39;00m:\n\u001b[0;32m     72\u001b[0m     \u001b[39mdel\u001b[39;00m filtered_tb\n",
      "File \u001b[1;32mc:\\Users\\noah\\anaconda3\\envs\\tensorflow_ml_stuff\\lib\\site-packages\\keras\\backend.py:2455\u001b[0m, in \u001b[0;36mdot\u001b[1;34m(x, y)\u001b[0m\n\u001b[0;32m   2453\u001b[0m     out \u001b[39m=\u001b[39m tf\u001b[39m.\u001b[39msparse\u001b[39m.\u001b[39msparse_dense_matmul(x, y)\n\u001b[0;32m   2454\u001b[0m \u001b[39melse\u001b[39;00m:\n\u001b[1;32m-> 2455\u001b[0m     out \u001b[39m=\u001b[39m tf\u001b[39m.\u001b[39;49mmatmul(x, y)\n\u001b[0;32m   2456\u001b[0m \u001b[39mreturn\u001b[39;00m out\n",
      "\u001b[1;31mValueError\u001b[0m: Exception encountered when calling layer \"lstm_1\" (type LSTM).\n\nDimensions must be equal, but are 400 and 256 for '{{node MatMul_1}} = MatMul[T=DT_FLOAT, transpose_a=false, transpose_b=false](init_h, recurrent_kernel)' with input shapes: [?,400], [256,1024].\n\nCall arguments received by layer \"lstm_1\" (type LSTM):\n  • inputs=['tf.Tensor(shape=(None, 32, 50), dtype=float32)', 'tf.Tensor(shape=(None, 400), dtype=float32)', 'tf.Tensor(shape=(None, 400), dtype=float32)']\n  • mask=None\n  • training=None\n  • initial_state=None"
     ]
    }
   ],
   "source": [
    "# Ungetestet muss noch angepasst werden\n",
    "\n",
    "outputDimension = 50 \n",
    "lstm_units = 256\n",
    "max_sentence_length = 32\n",
    "\n",
    "\"\"\"\n",
    "Laden der benötigten Daten\n",
    "\"\"\"\n",
    "# Laden der beiden Vokabulare\n",
    "index2word = np.load('./data/index2word.dict.npy',allow_pickle='TRUE').item()\n",
    "word2index = np.load('./data/word2index.dict.npy',allow_pickle='TRUE').item()\n",
    "\n",
    "# Laden der Layer\n",
    "w_embedding = np.load('./models/embeddingEncoderLayer.npz', allow_pickle=True)\n",
    "w_encoder_lstm = np.load('./models/lstmEncoderLayer.npz', allow_pickle=True)\n",
    "w_decoder_lstm = np.load('./models/lstmDecoderLayer.npz', allow_pickle=True)\n",
    "w_dense = np.load('./models/denseLayer.npz', allow_pickle=True)\n",
    "\n",
    "\"\"\"\n",
    "Erstellen des Trainingsmodelles\n",
    "Genauere Ausführungen sind in dem Hauptdokument zu finden\n",
    "\"\"\"\n",
    "# Eingabe-Platzhalter für Encoder und Decoder erstellen\n",
    "encoder_input_placeholder = Input(shape=(max_sentence_length, ))\n",
    "decoder_input_placeholder = Input(shape=(max_sentence_length, ))\n",
    "# Embedding-Layer erstellen\n",
    "VOCABULARY_SIZE = len(index2word)\n",
    "embedding = Embedding(VOCABULARY_SIZE+1, output_dim=50, input_length=13, trainable=True)\n",
    "# Encoder-Eingabe dem Emebdding-Layer übergeben\n",
    "encoder_embedding = embedding(encoder_input_placeholder)\n",
    "# Encoder-LSTM-Layer erstellen\n",
    "encoder_lstm = LSTM(lstm_units, return_sequences=True, return_state=True)\n",
    "# Encoder-Embedding-Ausgabe dem Encoder-LSTM-Layer übergeben\n",
    "encoder_output, h, c = encoder_lstm(encoder_embedding)\n",
    "encoder_states = [h, c]\n",
    "# Decoder-LSTM-Layer erstellen\n",
    "decoder_embedding = embedding(decoder_input_placeholder)\n",
    "decoder_lstm = LSTM(lstm_units, return_sequences=True, return_state=True)\n",
    "decoder_output, _, _ = decoder_lstm(decoder_embedding, initial_state=encoder_states)\n",
    "# Erstellen des Dense-Layers\n",
    "dense = Dense(VOCABULARY_SIZE, activation=\"softmax\")\n",
    "# Decoder-Ausgabe dem Dense-Layer übergeben, um Dense-Ausgabe zu erhalten\n",
    "dense_output = dense(decoder_output)\n",
    "loaded_model = Model([encoder_input_placeholder, decoder_input_placeholder], dense_output)\n",
    "\n",
    "loaded_model.summary()\n",
    "\n",
    "\"\"\"\n",
    "Anwenden der geladenen Layer auf das neue Modell\n",
    "\"\"\"\n",
    "loaded_model.layers[2].set_weights(w_embedding['arr_0'])\n",
    "loaded_model.layers[3].set_weights(w_encoder_lstm['arr_0'])\n",
    "loaded_model.layers[4].set_weights(w_decoder_lstm['arr_0'])\n",
    "loaded_model.layers[5].set_weights(w_dense['arr_0'])\n",
    "\n",
    "\"\"\"\n",
    "Erstellen des Interferenz-Modells\n",
    "Genauere Ausführungen sind in dem Hauptdokument zu finden\n",
    "\"\"\"\n",
    "# Encoder-Modell erstellen\n",
    "encoder_model = Model([encoder_input_placeholder], encoder_states)\n",
    "# Decoder Eingaben erstellen\n",
    "decoder_state_input_h_placeholder = Input(shape=(400, ))\n",
    "decoder_state_input_c_placeholder = Input(shape=(400, ))\n",
    "decoder_state_inputs_placeholder = [decoder_state_input_h_placeholder, decoder_state_input_c_placeholder]\n",
    "decoder_ouputs, state_h, state_c = decoder_lstm(decoder_embedding, initial_state=decoder_state_inputs_placeholder)\n",
    "decoder_states = [state_h, state_c]\n",
    "# Decoder-Modell erstellen\n",
    "decoder_model = Model([decoder_input_placeholder] + decoder_state_inputs_placeholder, [decoder_ouputs] + decoder_states)\n",
    "\n",
    "\"\"\"\n",
    "Ausführung des interaktiven Chatbots\n",
    "\"\"\"\n",
    "print(\"##############################\\n#   Chatbot   #\\n##############################\")\n",
    "\n",
    "# Eingabe des Benutzers\n",
    "user_input = input(\"You: \")\n",
    "\n",
    "while user_input != \"quit\":\n",
    "    # Vorbereitung\n",
    "    user_input = clean_text(user_input)\n",
    "    user_input_list = [user_input]\n",
    "\n",
    "    # Eingabe in ganzzahlige Werte konvertieren\n",
    "    text = []\n",
    "    for input_list in user_input_list:\n",
    "        word_list = []\n",
    "        for word in input_list.split():\n",
    "            try:\n",
    "                word_list.append(vocabulary[word])\n",
    "            except:\n",
    "                word_list.append(vocabulary[\"<OUT>\"])\n",
    "        text.append(word_list)\n",
    "\n",
    "    # Länge 13 festlegen\n",
    "    text = pad_sequences(text, 13, padding=\"post\")\n",
    "\n",
    "    states = encoder_model.predict(text)\n",
    "\n",
    "    empty_target_sequence = np.zeros((1, 1))\n",
    "    empty_target_sequence[0,0] = vocabulary[\"<START>\"]\n",
    "\n",
    "    # Dauerschleife bis Ende des Strings oder maximale Länge erreicht\n",
    "    stop_condition = False\n",
    "    answer = \"\"\n",
    "\n",
    "    while not stop_condition:\n",
    "\n",
    "        decoder_ouputs, h, c = decoder_model.predict([empty_target_sequence] + states)\n",
    "\n",
    "        # Dense mit Softmax-Aktivierung\n",
    "        decoder_concatination_input = dense(decoder_ouputs)\n",
    "\n",
    "        # Index des Wortes mit der höchsten Wahrscheinlichkeit\n",
    "        sampled_word_index = np.argmax(decoder_concatination_input[0, -1, :])\n",
    "\n",
    "        # Wort über invertiertes Vokabular finden\n",
    "        sampled_word = inverted_vocabulary[sampled_word_index] + \" \"\n",
    "\n",
    "        # Wort als Chatbot-Antwort speichern\n",
    "        if sampled_word != \"<END> \":\n",
    "            answer += sampled_word\n",
    "\n",
    "        # Antwort beenden falls <END>-Token oder maximale Länge erreicht\n",
    "        if sampled_word == \"<END> \" or len(answer.split()) > 13:\n",
    "            stop_condition = True\n",
    "\n",
    "        # Werte zurücksetzen\n",
    "        empty_target_sequence = np.zeros((1, 1))\n",
    "        empty_target_sequence[0, 0] = sampled_word_index\n",
    "        states = [h, c]\n",
    "\n",
    "    print(\"Chatbot: \", answer, \"\\n==============================\")\n",
    "    # Hier nächste Eingabe des Benutzers, um die Abbruchbedingung reichtzeiH"
   ]
  }
 ],
 "metadata": {
  "kernelspec": {
   "display_name": "Python 3 (ipykernel)",
   "language": "python",
   "name": "python3"
  },
  "language_info": {
   "codemirror_mode": {
    "name": "ipython",
    "version": 3
   },
   "file_extension": ".py",
   "mimetype": "text/x-python",
   "name": "python",
   "nbconvert_exporter": "python",
   "pygments_lexer": "ipython3",
   "version": "3.10.9"
  },
  "vscode": {
   "interpreter": {
    "hash": "9978dee63576bf3eb01fd0099124cb1b0d7ef3663923ee832c1b14872d283213"
   }
  }
 },
 "nbformat": 4,
 "nbformat_minor": 4
}
