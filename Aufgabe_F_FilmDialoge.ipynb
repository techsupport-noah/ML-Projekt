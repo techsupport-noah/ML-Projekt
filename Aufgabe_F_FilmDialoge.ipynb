{
 "cells": [
  {
   "cell_type": "markdown",
   "metadata": {},
   "source": [
    "# Aufgabe-F-FilmDialoge"
   ]
  },
  {
   "cell_type": "markdown",
   "metadata": {},
   "source": [
    "## Allgemeines\n",
    "\n",
    "Eine allgemeine Beschreibung der Laboraufgaben inklusive des Vorgehens, den Bewertungsrichtlinien und der Abgabe finden Sie  <a href=\"ML-allgemein.ipynb\">hier</a>"
   ]
  },
  {
   "cell_type": "markdown",
   "metadata": {},
   "source": [
    "## Datenquelle\n",
    "\n",
    "\n",
    "* Laden Sie ihre Daten von http://141.72.190.207/ml_lab/F_dialoge herunter\n",
    "    * Die Daten sind geschützt. \n",
    "        * Sie müssen evtl. in einem Netzwerk der DHBW (z.B. WLAN, VPN, ...) angemeldet sein. \n",
    "        * Sie können sich auf der Webseite mit dem Benutzernamen dhbw und dem Zugangsnamen \"ml_LaB_4$\" anmelden. \n",
    "* Die Daten sind in einem anwendungsspezifischen Format gespeichert.\n",
    "    * Sie finden evtl. Informationen über die Daten in einer \"README\" Datei. \n",
    "    * Finden Sie keine solche Datei sind die Daten selbst erklärend. \n",
    "    \n",
    "    \n",
    "\n"
   ]
  },
  {
   "cell_type": "markdown",
   "metadata": {},
   "source": [
    "## Aufgabe"
   ]
  },
  {
   "cell_type": "markdown",
   "metadata": {},
   "source": [
    "Die Daten-Sammlung \n",
    "* besteht aus Dialogen aus verschiedensten Filmen\n",
    "* ist in der Readme Datei beschrieben\n",
    "\n",
    "Erstellen Sie aus den einen Chatbot, der auf eine Frage mit einer Antwort im \"Filmjargon\" antwortet! \n",
    "* Verwenden Sie tiefe Neuronale Netze zu Erstellen des Chatbots! \n",
    "* Passen Sie den Chatbot so an, dass er für unterschiedliche Film-Genres unterschiedlich antwortet! \n"
   ]
  },
  {
   "cell_type": "markdown",
   "metadata": {},
   "source": [
    "# Lösung\n",
    "\n",
    "Die Lösung der Aufgabe besteht aus mehreren Teilschritten, welche im Folgenden kurz genannt werden:\n",
    "\n",
    "* Daten einlesen\n",
    "* Daten vorverarbeiten\n",
    "* Model erstellen\n",
    "* Model trainieren\n",
    "* Model abspeichern\n",
    "* Interferenzmodel erstellen\n",
    "* Interferenzmodel ausführen\n"
   ]
  },
  {
   "attachments": {},
   "cell_type": "markdown",
   "metadata": {},
   "source": [
    "# Abhängigkeiten des Projekts"
   ]
  },
  {
   "cell_type": "code",
   "execution_count": 3,
   "metadata": {},
   "outputs": [],
   "source": [
    "import tensorflow as tf\n",
    "import random\n",
    "import numpy \n",
    "from tensorflow.keras.preprocessing.text import Tokenizer\n",
    "from tensorflow.keras.preprocessing.sequence import pad_sequences\n",
    "from tensorflow.keras.layers import Dense, Embedding, LSTM, Input\n",
    "from tensorflow.keras.models import Model, load_model\n",
    "from tensorflow.keras.utils import to_categorical\n",
    "from sklearn.model_selection import train_test_split\n",
    "from matplotlib import pyplot as plt\n",
    "import pickle"
   ]
  },
  {
   "cell_type": "markdown",
   "metadata": {},
   "source": [
    "# Eigene Abhängigkeiten des Projekts\n",
    "\n",
    "* hier werden unsere Hilfsfunktionen importiert"
   ]
  },
  {
   "cell_type": "code",
   "execution_count": 4,
   "metadata": {},
   "outputs": [],
   "source": [
    "import src.data_helper as dh"
   ]
  },
  {
   "attachments": {},
   "cell_type": "markdown",
   "metadata": {},
   "source": [
    "## Konstanten\n",
    "Wähle hier u.a. welches Genre genutzt werden soll. Mit dem Flag \"all\" werden alle Daten verwendet"
   ]
  },
  {
   "cell_type": "code",
   "execution_count": 5,
   "metadata": {},
   "outputs": [],
   "source": [
    "genre = \"all\"\n",
    "num_examples = 30000\n",
    "test_size = 0.2\n",
    "random.seed(42)\n",
    "max_wordcount_in_sentence = 10\n",
    "max_sentence_length = max_wordcount_in_sentence + 2 # +2 for start and end token in decoder data\n",
    "outputDimension = 50\n",
    "lstm_units = 400"
   ]
  },
  {
   "cell_type": "markdown",
   "metadata": {},
   "source": [
    "# Daten einlesen\n",
    "\n",
    "Hier werden zuerst die rohen Daten eingelesen und innerhalb der Hilfsfunktion \"readDataToLines\" mit des \"newline\" Zeichen getrennt. Die Daten werden zwei Listen gespeichert, welche dann zurückgegeben werden.\n",
    "Verwendet wurden folgende Funktionen:\n",
    "\n",
    "* \"open\" um die Datei zu öffnen\n",
    "* \"read\" um die Datei zu lesen\n",
    "* \"split\" um die Daten anhand des \"newline\" Zeichen zu trennen und in einer Liste zu speichern"
   ]
  },
  {
   "cell_type": "code",
   "execution_count": 6,
   "metadata": {},
   "outputs": [],
   "source": [
    "# read the data from the files\n",
    "movie_lines, movie_conversations, movie_data = dh.readDataToLines(\"data/unzipped/movie_lines.txt\", \"data/unzipped/movie_conversations.txt\", \"data/unzipped/movie_titles_metadata.txt\")"
   ]
  },
  {
   "cell_type": "markdown",
   "metadata": {},
   "source": [
    "# Daten vorverarbeiten"
   ]
  },
  {
   "attachments": {},
   "cell_type": "markdown",
   "metadata": {},
   "source": [
    "Hier werden die Daten vorverarbeitet.\n",
    "\n",
    "Dazu werden die Konversationen aus der conversations-Datei, bestehend aus Tokens, in einer Liste gespeichert.\n",
    "Anschließend werden, um die Verallgemeinerung des Modells zu verbessern, die Konversationen zufällig (mit Seed) gemischt.\n",
    "Mit Hilfe der lines-Datei, bestehend aus Tokens und zugewiesenen Zeilen, wird ein Dictionary erstellt, welches die Zeilen mit den Tokens verknüpft.\n",
    "Anschließend werden alle Zeilen mit Hilfe einer Hilfsfunktion von unnötigen Zeichen bereinigt."
   ]
  },
  {
   "cell_type": "code",
   "execution_count": 7,
   "metadata": {},
   "outputs": [],
   "source": [
    "# create a dictionary that maps each line id to the corresponding line\n",
    "id2line = dh.readLinesToDict(movie_lines)\n",
    "\n",
    "# remove all unnecessary characters from the lines and replace short forms with the full words\n",
    "id2line = dh.cleanLines(id2line)\n",
    "\n",
    "if genre == \"all\":\n",
    "    # extract and mix conversations to a list\n",
    "    conversations_list = dh.readConversationsToList(movie_conversations)\n",
    "else:\n",
    "    id2genre = dh.readMoviedataToDict(movie_data)\n",
    "    conversations_list_per_genre = dh.readConversationsToListDependingGenre(movie_conversations, id2genre)\n",
    "    assert genre in conversations_list_per_genre.keys()\n",
    "    conversations_list = conversations_list_per_genre[genre]\n",
    "\n",
    "random.shuffle(conversations_list)\n"
   ]
  },
  {
   "attachments": {},
   "cell_type": "markdown",
   "metadata": {},
   "source": [
    "Nun werden die Konversationen in Requests und Responses unterteilt.\n",
    "Konversationen mit mehr als 2 Zeilen, werden dabei in x Konversationen mit jeweils 2 Zeilen unterteilt, weil jede Antwort auch selbst wieder ein Request für die nächste Antwort ist.\n",
    "Zur Kontrolle wird die Länge beider Datensätze ausgegeben. Man erkennt, dass beide Listen gleich lang sind, wir also zu jedem Request einen passenden Response haben."
   ]
  },
  {
   "cell_type": "code",
   "execution_count": 8,
   "metadata": {},
   "outputs": [
    {
     "name": "stdout",
     "output_type": "stream",
     "text": [
      "Länge Fragen: 221616\n",
      "Länge Antworten: 221616\n"
     ]
    }
   ],
   "source": [
    "# split the conversations into requests and responses, each answer is used as a request for the next answer\n",
    "requests, responses = dh.splitConversationsToRequestAndResponse(conversations_list, id2line)\n",
    "\n",
    "print(f\"Länge Fragen: {len(requests)}\")\n",
    "print(f\"Länge Antworten: {len(responses)}\")"
   ]
  },
  {
   "cell_type": "markdown",
   "metadata": {},
   "source": [
    "### Parameter wählen"
   ]
  },
  {
   "attachments": {},
   "cell_type": "markdown",
   "metadata": {},
   "source": [
    "Um zu bestimmen, mit welchen Parametern wir die Daten eingrenzen wollen, da die Datenmenge sehr groß ist, werden die Längen der Requests und Responses ausgegeben und deren Häufigkeit grafisch visualisiert.\n",
    "Man erkennt gut, dass die meisten Daten eine Wortanzahl bis zu 10 Worten haben. Deshalb wurden die Daten auf diese Länge beschränkt."
   ]
  },
  {
   "cell_type": "code",
   "execution_count": 9,
   "metadata": {},
   "outputs": [
    {
     "data": {
      "image/png": "[encoded data removed]",
      "text/plain": [
       "<Figure size 640x480 with 1 Axes>"
      ]
     },
     "metadata": {},
     "output_type": "display_data"
    }
   ],
   "source": [
    "# get the length of each line of the requests and save the occurrences in a dictionary\n",
    "lengths_request = {}\n",
    "for sentence in requests:\n",
    "    length = len(sentence.split())\n",
    "    if length in lengths_request:\n",
    "        lengths_request[length] += 1\n",
    "    else:\n",
    "        lengths_request[length] = 1\n",
    "\n",
    "# get the length of each line of the responses and save the occurrences in a dictionary\n",
    "lengths_response = {}\n",
    "for sentence in responses:\n",
    "    length = len(sentence.split())\n",
    "    if length in lengths_response:\n",
    "        lengths_response[length] += 1\n",
    "    else:\n",
    "        lengths_response[length] = 1\n",
    "\n",
    "# plot the occurrences of the lengths of the requests and responses in the same plot while only showind x values up to 200\n",
    "plt.bar(lengths_request.keys(), lengths_request.values(), label=\"request\")\n",
    "plt.bar(lengths_response.keys(), lengths_response.values(), label=\"response\")\n",
    "plt.xlim(0, 100)\n",
    "plt.legend()\n",
    "plt.show()"
   ]
  },
  {
   "attachments": {},
   "cell_type": "markdown",
   "metadata": {},
   "source": [
    "Hier werden nun die Daten um die Datenpaare gekürzt, die die gewählte Länge überschreiten.\n",
    "Zur Überprüfung wird erneut die Länge der beiden Datensätze ausgegeben."
   ]
  },
  {
   "cell_type": "code",
   "execution_count": 10,
   "metadata": {},
   "outputs": [
    {
     "name": "stdout",
     "output_type": "stream",
     "text": [
      "Länge Fragen: 97310\n",
      "Länge Antworten: 97310\n"
     ]
    }
   ],
   "source": [
    "# delete requests and associated responses with length > max_wordcount_in_sentence\n",
    "requests, responses = dh.removeLongSequences(requests, responses, 1, max_wordcount_in_sentence)\n",
    "\n",
    "print(f\"Länge Fragen: {len(requests)}\")\n",
    "print(f\"Länge Antworten: {len(responses)}\")\n"
   ]
  },
  {
   "attachments": {},
   "cell_type": "markdown",
   "metadata": {},
   "source": [
    "Um den Datensatz noch weiter zu reduzieren, werden die Datensätze basierend auf einer festen Länge gekürzt. Im konkreten Fall konnten wir mit Datensatzgrößen von maximal jeweils ca. 30000 Daten arbeiten, da die Datenmenge sonst nicht in den Arbeitsspeicher passt. \n",
    "Außerdem wurden die Daten, welche im Decoder zum Training verwendet werden sollen um Start und End Tokens ergänzt. Dadurch wird der Decoder angewiesen, dass er mit dem Start Token beginnen soll und mit dem End Token aufhören soll.\n",
    "Basierend auf diesem Tokens können wir das Generieren der Antworten starten und das Predicten ab dem Stop Token beenden."
   ]
  },
  {
   "cell_type": "code",
   "execution_count": 11,
   "metadata": {},
   "outputs": [],
   "source": [
    "# limit the size of the dataset\n",
    "requests = requests[:num_examples]\n",
    "responses = responses[:num_examples]\n",
    "\n",
    "# encapsule the responses with the tokens <S> (Start) and <E> (End)\n",
    "responses = dh.encapsuleWithTokens(responses, '<S>', '<E>')"
   ]
  },
  {
   "attachments": {},
   "cell_type": "markdown",
   "metadata": {},
   "source": [
    "Nun werden das jeweilige Vorkommen der einzelnen Wörter in Anfragen und Antworten gezählt. Wörter die weniger als 5 mal vorkommen werden dabei herausgefiltert. Schließlich wird die Anzahl der übrigen Wörter bestimmt. +2 um die zusätzlichen Tokens *U* und *P* zu berücksichtigen."
   ]
  },
  {
   "cell_type": "code",
   "execution_count": 12,
   "metadata": {},
   "outputs": [
    {
     "name": "stdout",
     "output_type": "stream",
     "text": [
      "Anzahl an Wörtern: 5521\n"
     ]
    }
   ],
   "source": [
    "word2count = dh.getWord2Count(requests, responses)\n",
    "\n",
    "min_wordFrequency = 3\n",
    "word2count = {k:v for k,v in word2count.items() if v >= min_wordFrequency}\n",
    "vocab_size = len(word2count)+2\n",
    "print(f\"Anzahl an Wörtern: {vocab_size}\")"
   ]
  },
  {
   "attachments": {},
   "cell_type": "markdown",
   "metadata": {},
   "source": [
    "Mit Hilfe des Tokenizers können wir nun die vorkommenden Wörter in den Datensätzen mit einem eindeutigen Index versehen und die Datensätze in Sequenzen von Indexen umwandeln. Hierbei bestimmt die Vocab_size die maximal vergebenen Tokens. Hierdurch werden die Wörter mit dem niedrigsten Vorkommen durch den Token *U* (Unknown) ersetzt.\n",
    "Zur Kontrolle werden die ersten 5 Daten innerhalb der Datensätze vor und nach der Tokenisierung ausgegeben."
   ]
  },
  {
   "cell_type": "code",
   "execution_count": 13,
   "metadata": {},
   "outputs": [
    {
     "name": "stdout",
     "output_type": "stream",
     "text": [
      "['my room', 'mine too', 'get out of here', 'would you like part of this it is not much', 'like you']\n",
      "['<S> mine too <E>', '<S> what were they looking for <E>', '<S> it is really that bad <E>', '<S> all the insides are gone <E>', '<S> beautiful <E>']\n",
      "[[29, 267], [376, 91], [53, 65, 23, 41], [60, 4, 43, 548, 23, 24, 8, 6, 17, 118], [43, 4]]\n",
      "[[2, 376, 91, 3], [2, 9, 78, 45, 226, 31, 3], [2, 8, 6, 90, 13, 188, 3], [2, 56, 7, 1, 12, 320, 3], [2, 290, 3]]\n"
     ]
    }
   ],
   "source": [
    "oov_token = '<U>'\n",
    "\n",
    "tokenizer = Tokenizer(num_words=vocab_size, oov_token=oov_token, filters='', lower=False)\n",
    "\n",
    "tokenizer.fit_on_texts(requests)\n",
    "tokenizer.fit_on_texts(responses)\n",
    "tokenizer.fit_on_texts([\"<P>\"]) # add padding token to the tokenizer\n",
    "\n",
    "tokenized_requests = tokenizer.texts_to_sequences(requests)\n",
    "tokenized_responses = tokenizer.texts_to_sequences(responses)\n",
    "\n",
    "print(requests[0:5])\n",
    "print(responses[0:5])\n",
    "print(tokenized_requests[0:5])\n",
    "print(tokenized_responses[0:5])"
   ]
  },
  {
   "attachments": {},
   "cell_type": "markdown",
   "metadata": {},
   "source": [
    "Um alle Daten auf eine einheitliche Länge zu bringen, werden die Datensätze mit Padding aufgefüllt.\n",
    "Um die Daten korrekt mit Padding Tokens zu füllen, wird der Index des Padding Tokens ermittelt um ihn anschließend beim Padding zu verwenden."
   ]
  },
  {
   "cell_type": "code",
   "execution_count": 14,
   "metadata": {},
   "outputs": [],
   "source": [
    "padding_index = tokenizer.word_index[\"<P>\"]\n",
    "\n",
    "pad_type = 'post'\n",
    "trunc_type = 'post'\n",
    "\n",
    "encoder_input = pad_sequences(tokenized_requests, padding=pad_type, maxlen=max_sentence_length, truncating=trunc_type, value=padding_index)\n",
    "decoder_input = pad_sequences(tokenized_responses, padding=pad_type, maxlen=max_sentence_length, truncating=trunc_type, value=padding_index)\n"
   ]
  },
  {
   "attachments": {},
   "cell_type": "markdown",
   "metadata": {},
   "source": [
    "Weil dem Decoder Ausgaben das Start Token vorangestellt wird, muss das Start Token beim letztendlichen Output der Trainingsdaten des Decoders entfernt werden.\n",
    "Anschließend wird die Dimension des Outputs erhöht."
   ]
  },
  {
   "cell_type": "code",
   "execution_count": 15,
   "metadata": {},
   "outputs": [],
   "source": [
    "vocab_size = len(tokenizer.word_index) + 1\n",
    "\n",
    "input_encoder_train, input_encoder_val, input_decoder_train, input_decoder_val = train_test_split(encoder_input, decoder_input, test_size=test_size)\n",
    "\n",
    "output_decoder_train = [i[1:] for i in input_decoder_train]\n",
    "output_decoder_train = pad_sequences(output_decoder_train, maxlen=max_sentence_length, padding='post', truncating=\"post\", value=padding_index)\n",
    "output_decoder_train = tf.keras.utils.to_categorical(output_decoder_train, vocab_size)\n",
    "\n",
    "output_decoder_val = [i[1:] for i in input_decoder_val]\n",
    "output_decoder_val = pad_sequences(output_decoder_val, maxlen=max_sentence_length, padding='post', truncating=\"post\", value=padding_index)\n",
    "output_decoder_val = tf.keras.utils.to_categorical(output_decoder_val, vocab_size)"
   ]
  },
  {
   "cell_type": "markdown",
   "metadata": {},
   "source": [
    "# Model erstellen"
   ]
  },
  {
   "attachments": {},
   "cell_type": "markdown",
   "metadata": {},
   "source": [
    "Die Parameter des Models wurden im Bereich der Konstanten definiert."
   ]
  },
  {
   "attachments": {},
   "cell_type": "markdown",
   "metadata": {},
   "source": [
    " ## Shared Embedding Layer"
   ]
  },
  {
   "attachments": {},
   "cell_type": "markdown",
   "metadata": {},
   "source": [
    "Hier wird der Shared Embedding Layer erstellt. Dieser Layer wird sowohl vom Encoder als auch vom Decoder Teil verwendet."
   ]
  },
  {
   "cell_type": "code",
   "execution_count": 16,
   "metadata": {},
   "outputs": [],
   "source": [
    "embedding = tf.keras.layers.Embedding(vocab_size, output_dim = outputDimension, trainable=True)"
   ]
  },
  {
   "attachments": {},
   "cell_type": "markdown",
   "metadata": {},
   "source": [
    "## Encoder\n",
    "- Input\n",
    "- Embedding\n",
    "- LSTM"
   ]
  },
  {
   "attachments": {},
   "cell_type": "markdown",
   "metadata": {},
   "source": [
    "Hier wird der Encoder Teil des Models erstellt. Er besteht aus einem Input Layer, einem Embedding Layer und einem LSTM Layer."
   ]
  },
  {
   "cell_type": "code",
   "execution_count": 17,
   "metadata": {},
   "outputs": [],
   "source": [
    "# input tensor for the encoder, shape of each vector is determined by max_length which was also used to pad the data\n",
    "inputEncoderTensor = tf.keras.Input(shape=(None, ))\n",
    "\n",
    "# embedding layer of the encoder, the input is the input tensor, the output is the embedding tensor\n",
    "encoderEmbedding = embedding(inputEncoderTensor)\n",
    "\n",
    "# LSTM layer of the encoder, the input is the embedding tensor, the output is the output tensor and the hidden state of the encoder\n",
    "encoderLSTM = tf.keras.layers.LSTM(lstm_units, return_sequences=True, return_state = True)\n",
    "encoderOutput, encoderHiddenState, encoderCellState = encoderLSTM(encoderEmbedding)\n",
    "encoderStates = [encoderHiddenState, encoderCellState]"
   ]
  },
  {
   "attachments": {},
   "cell_type": "markdown",
   "metadata": {},
   "source": [
    "## Decoder\n",
    "- Input\n",
    "- Embedding\n",
    "- LSTM\n",
    "- Dense"
   ]
  },
  {
   "attachments": {},
   "cell_type": "markdown",
   "metadata": {},
   "source": [
    "Hier wird der Decoder Teil des Models erstellt. Er besteht aus einem Input Layer, einem Embedding Layer, einem LSTM Layer und einem Dense Layer."
   ]
  },
  {
   "cell_type": "code",
   "execution_count": 18,
   "metadata": {},
   "outputs": [],
   "source": [
    "# input tensor for the decoder, shape of each vector is determined by max_length which was also used to pad the data\n",
    "inputDecoderTensor = tf.keras.Input(shape=(None, ))\n",
    "\n",
    "# embedding layer of the decoder, the input is the input tensor, the output is the embedding tensor\n",
    "decoderEmbedding = embedding(inputDecoderTensor)\n",
    "\n",
    "# LSTM layer of the decoder, the input is the embedding tensor and the state of the previous lstm layer, the output is the output tensor and the hidden state of the decoder\n",
    "decoderLSTM = tf.keras.layers.LSTM(lstm_units, return_state = True, return_sequences=True)\n",
    "decoderOutput, _, _ = decoderLSTM(decoderEmbedding, initial_state = encoderStates)\n",
    "\n",
    "# dense layer of the decoder, the input is the output tensor of the lstm layer, the output is the output tensor of the dense layer\n",
    "# the dense layer has the same number of units as the number of words in the dictionary because the output of the dense layer is a vector with a probability for each word in the dictionary\n",
    "decoderDense = tf.keras.layers.Dense(vocab_size, activation = \"softmax\")\n",
    "outputDense = decoderDense(decoderOutput)"
   ]
  },
  {
   "attachments": {},
   "cell_type": "markdown",
   "metadata": {},
   "source": [
    "## Summary"
   ]
  },
  {
   "attachments": {},
   "cell_type": "markdown",
   "metadata": {},
   "source": [
    "Hier wird das Trainingsmodel aus beiden Teilen (Encoder, Decoder) erstellt. Für die Überwachung des Trainingsprozesses kommt die Genauigkeit als Metrik zum Einsatz. Weiterhin wird der Optimizer Adam und die Loss Funktion Categorical Crossentropy verwendet."
   ]
  },
  {
   "cell_type": "code",
   "execution_count": 19,
   "metadata": {},
   "outputs": [
    {
     "name": "stdout",
     "output_type": "stream",
     "text": [
      "Model: \"model\"\n",
      "__________________________________________________________________________________________________\n",
      " Layer (type)                   Output Shape         Param #     Connected to                     \n",
      "==================================================================================================\n",
      " input_2 (InputLayer)           [(None, None)]       0           []                               \n",
      "                                                                                                  \n",
      " input_1 (InputLayer)           [(None, None)]       0           []                               \n",
      "                                                                                                  \n",
      " embedding (Embedding)          (None, None, 50)     727950      ['input_1[0][0]',                \n",
      "                                                                  'input_2[0][0]']                \n",
      "                                                                                                  \n",
      " lstm (LSTM)                    [(None, None, 400),  721600      ['embedding[0][0]']              \n",
      "                                 (None, 400),                                                     \n",
      "                                 (None, 400)]                                                     \n",
      "                                                                                                  \n",
      " lstm_1 (LSTM)                  [(None, None, 400),  721600      ['embedding[1][0]',              \n",
      "                                 (None, 400),                     'lstm[0][1]',                   \n",
      "                                 (None, 400)]                     'lstm[0][2]']                   \n",
      "                                                                                                  \n",
      " dense (Dense)                  (None, None, 14559)  5838159     ['lstm_1[0][0]']                 \n",
      "                                                                                                  \n",
      "==================================================================================================\n",
      "Total params: 8,009,309\n",
      "Trainable params: 8,009,309\n",
      "Non-trainable params: 0\n",
      "__________________________________________________________________________________________________\n"
     ]
    }
   ],
   "source": [
    "if genre == \"all\":\n",
    "    # Define the model \n",
    "    model = tf.keras.models.Model([inputEncoderTensor, inputDecoderTensor], outputDense)\n",
    "    # Compile the model\n",
    "    model.compile(optimizer='adam', loss='categorical_crossentropy', metrics=['accuracy'])\n",
    "else:\n",
    "    # load the base model \n",
    "    model = load_model(f\"models/model_all.h5\")\n",
    "\n",
    "\n",
    "model.summary()"
   ]
  },
  {
   "attachments": {},
   "cell_type": "markdown",
   "metadata": {},
   "source": [
    "# Trainieren des Models"
   ]
  },
  {
   "attachments": {},
   "cell_type": "markdown",
   "metadata": {},
   "source": [
    "Um eine Überanpassung des Models zu vermeiden, wird ein Callback erstellt, welches das Training abbricht, wenn die Genauigkeit wärend des Trainings 5 Epochen lang nicht mehr gestiegen ist.\n",
    "Anschließend wird das Model 200 Epochen lang trainiert."
   ]
  },
  {
   "cell_type": "code",
   "execution_count": 20,
   "metadata": {},
   "outputs": [
    {
     "name": "stdout",
     "output_type": "stream",
     "text": [
      "Epoch 1/200\n",
      "750/750 [==============================] - 95s 122ms/step - loss: 2.7841 - accuracy: 0.5843\n",
      "Epoch 2/200\n",
      "750/750 [==============================] - 87s 115ms/step - loss: 2.3564 - accuracy: 0.6233\n",
      "Epoch 3/200\n",
      "750/750 [==============================] - 94s 126ms/step - loss: 2.2299 - accuracy: 0.6333\n",
      "Epoch 4/200\n",
      "750/750 [==============================] - 94s 125ms/step - loss: 2.1461 - accuracy: 0.6392\n",
      "Epoch 5/200\n",
      "750/750 [==============================] - 87s 116ms/step - loss: 2.0828 - accuracy: 0.6428\n",
      "Epoch 6/200\n",
      "750/750 [==============================] - 94s 125ms/step - loss: 2.0271 - accuracy: 0.6458\n",
      "Epoch 7/200\n",
      "750/750 [==============================] - 92s 123ms/step - loss: 1.9747 - accuracy: 0.6481\n",
      "Epoch 8/200\n",
      "750/750 [==============================] - 89s 119ms/step - loss: 1.9235 - accuracy: 0.6504\n",
      "Epoch 9/200\n",
      "750/750 [==============================] - 91s 121ms/step - loss: 1.8724 - accuracy: 0.6521\n",
      "Epoch 10/200\n",
      "750/750 [==============================] - 94s 126ms/step - loss: 1.8211 - accuracy: 0.6545\n",
      "Epoch 11/200\n",
      "750/750 [==============================] - 94s 126ms/step - loss: 1.7714 - accuracy: 0.6572\n",
      "Epoch 12/200\n",
      "750/750 [==============================] - 95s 126ms/step - loss: 1.7206 - accuracy: 0.6605\n",
      "Epoch 13/200\n",
      "750/750 [==============================] - 95s 127ms/step - loss: 1.6721 - accuracy: 0.6644\n",
      "Epoch 14/200\n",
      "750/750 [==============================] - 91s 122ms/step - loss: 1.6250 - accuracy: 0.6693\n",
      "Epoch 15/200\n",
      "750/750 [==============================] - 92s 123ms/step - loss: 1.5803 - accuracy: 0.6745\n",
      "Epoch 16/200\n",
      "750/750 [==============================] - 93s 124ms/step - loss: 1.5399 - accuracy: 0.6797\n",
      "Epoch 17/200\n",
      "750/750 [==============================] - 94s 126ms/step - loss: 1.5001 - accuracy: 0.6850\n",
      "Epoch 18/200\n",
      "750/750 [==============================] - 90s 120ms/step - loss: 1.4629 - accuracy: 0.6904\n",
      "Epoch 19/200\n",
      "750/750 [==============================] - 90s 121ms/step - loss: 1.4278 - accuracy: 0.6956\n",
      "Epoch 20/200\n",
      "750/750 [==============================] - 93s 123ms/step - loss: 1.3946 - accuracy: 0.7008\n",
      "Epoch 21/200\n",
      "750/750 [==============================] - 95s 127ms/step - loss: 1.3612 - accuracy: 0.7072\n",
      "Epoch 22/200\n",
      "750/750 [==============================] - 94s 126ms/step - loss: 1.3295 - accuracy: 0.7126\n",
      "Epoch 23/200\n",
      "750/750 [==============================] - 96s 128ms/step - loss: 1.2984 - accuracy: 0.7180\n",
      "Epoch 24/200\n",
      "750/750 [==============================] - 91s 121ms/step - loss: 1.2684 - accuracy: 0.7235\n",
      "Epoch 25/200\n",
      "750/750 [==============================] - 89s 119ms/step - loss: 1.2395 - accuracy: 0.7289\n",
      "Epoch 26/200\n",
      "750/750 [==============================] - 92s 123ms/step - loss: 1.2112 - accuracy: 0.7336\n",
      "Epoch 27/200\n",
      "750/750 [==============================] - 90s 120ms/step - loss: 1.1830 - accuracy: 0.7397\n",
      "Epoch 28/200\n",
      "750/750 [==============================] - 92s 123ms/step - loss: 1.1553 - accuracy: 0.7446\n",
      "Epoch 29/200\n",
      "750/750 [==============================] - 95s 127ms/step - loss: 1.1293 - accuracy: 0.7501\n",
      "Epoch 30/200\n",
      "750/750 [==============================] - 93s 125ms/step - loss: 1.1014 - accuracy: 0.7556\n",
      "Epoch 31/200\n",
      "750/750 [==============================] - 92s 123ms/step - loss: 1.0755 - accuracy: 0.7611\n",
      "Epoch 32/200\n",
      "750/750 [==============================] - 93s 123ms/step - loss: 1.0501 - accuracy: 0.7661\n",
      "Epoch 33/200\n",
      "750/750 [==============================] - 93s 124ms/step - loss: 1.0239 - accuracy: 0.7713\n",
      "Epoch 34/200\n",
      "750/750 [==============================] - 93s 125ms/step - loss: 0.9991 - accuracy: 0.7761\n",
      "Epoch 35/200\n",
      "750/750 [==============================] - 93s 125ms/step - loss: 0.9736 - accuracy: 0.7819\n",
      "Epoch 36/200\n",
      "750/750 [==============================] - 92s 123ms/step - loss: 0.9488 - accuracy: 0.7873\n",
      "Epoch 37/200\n",
      "750/750 [==============================] - 96s 128ms/step - loss: 0.9242 - accuracy: 0.7921\n",
      "Epoch 38/200\n",
      "750/750 [==============================] - 89s 119ms/step - loss: 0.9003 - accuracy: 0.7970\n",
      "Epoch 39/200\n",
      "750/750 [==============================] - 91s 122ms/step - loss: 0.8752 - accuracy: 0.8022\n",
      "Epoch 40/200\n",
      "750/750 [==============================] - 89s 118ms/step - loss: 0.8516 - accuracy: 0.8075\n",
      "Epoch 41/200\n",
      "750/750 [==============================] - 90s 120ms/step - loss: 0.8279 - accuracy: 0.8126\n",
      "Epoch 42/200\n",
      "750/750 [==============================] - 90s 120ms/step - loss: 0.8042 - accuracy: 0.8177\n",
      "Epoch 43/200\n",
      "750/750 [==============================] - 89s 119ms/step - loss: 0.7819 - accuracy: 0.8225\n",
      "Epoch 44/200\n",
      "750/750 [==============================] - 91s 122ms/step - loss: 0.7585 - accuracy: 0.8280\n",
      "Epoch 45/200\n",
      "750/750 [==============================] - 93s 123ms/step - loss: 0.7369 - accuracy: 0.8329\n",
      "Epoch 46/200\n",
      "750/750 [==============================] - 97s 129ms/step - loss: 0.7139 - accuracy: 0.8381\n",
      "Epoch 47/200\n",
      "750/750 [==============================] - 92s 123ms/step - loss: 0.6920 - accuracy: 0.8431\n",
      "Epoch 48/200\n",
      "750/750 [==============================] - 89s 119ms/step - loss: 0.6717 - accuracy: 0.8474\n",
      "Epoch 49/200\n",
      "750/750 [==============================] - 95s 127ms/step - loss: 0.6503 - accuracy: 0.8522\n",
      "Epoch 50/200\n",
      "750/750 [==============================] - 90s 120ms/step - loss: 0.6298 - accuracy: 0.8572\n",
      "Epoch 51/200\n",
      "750/750 [==============================] - 93s 124ms/step - loss: 0.6097 - accuracy: 0.8618\n",
      "Epoch 52/200\n",
      "750/750 [==============================] - 94s 125ms/step - loss: 0.5900 - accuracy: 0.8662\n",
      "Epoch 53/200\n",
      "750/750 [==============================] - 96s 128ms/step - loss: 0.5714 - accuracy: 0.8706\n",
      "Epoch 54/200\n",
      "750/750 [==============================] - 93s 124ms/step - loss: 0.5529 - accuracy: 0.8747\n",
      "Epoch 55/200\n",
      "750/750 [==============================] - 92s 123ms/step - loss: 0.5346 - accuracy: 0.8787\n",
      "Epoch 56/200\n",
      "750/750 [==============================] - 91s 121ms/step - loss: 0.5171 - accuracy: 0.8833\n",
      "Epoch 57/200\n",
      "750/750 [==============================] - 93s 125ms/step - loss: 0.4992 - accuracy: 0.8875\n",
      "Epoch 58/200\n",
      "750/750 [==============================] - 92s 123ms/step - loss: 0.4829 - accuracy: 0.8912\n",
      "Epoch 59/200\n",
      "750/750 [==============================] - 94s 126ms/step - loss: 0.4692 - accuracy: 0.8940\n",
      "Epoch 60/200\n",
      "750/750 [==============================] - 90s 121ms/step - loss: 0.4518 - accuracy: 0.8982\n",
      "Epoch 61/200\n",
      "750/750 [==============================] - 94s 126ms/step - loss: 0.4365 - accuracy: 0.9018\n",
      "Epoch 62/200\n",
      "750/750 [==============================] - 98s 131ms/step - loss: 0.4227 - accuracy: 0.9048\n",
      "Epoch 63/200\n",
      "750/750 [==============================] - 88s 117ms/step - loss: 0.4090 - accuracy: 0.9080\n",
      "Epoch 64/200\n",
      "750/750 [==============================] - 92s 123ms/step - loss: 0.3948 - accuracy: 0.9114\n",
      "Epoch 65/200\n",
      "750/750 [==============================] - 98s 130ms/step - loss: 0.3804 - accuracy: 0.9150\n",
      "Epoch 66/200\n",
      "750/750 [==============================] - 94s 126ms/step - loss: 0.3690 - accuracy: 0.9175\n",
      "Epoch 67/200\n",
      "750/750 [==============================] - 94s 125ms/step - loss: 0.3573 - accuracy: 0.9199\n",
      "Epoch 68/200\n",
      "750/750 [==============================] - 95s 127ms/step - loss: 0.3475 - accuracy: 0.9221\n",
      "Epoch 69/200\n",
      "750/750 [==============================] - 89s 119ms/step - loss: 0.3352 - accuracy: 0.9249\n",
      "Epoch 70/200\n",
      "750/750 [==============================] - 96s 128ms/step - loss: 0.3238 - accuracy: 0.9276\n",
      "Epoch 71/200\n",
      "750/750 [==============================] - 95s 127ms/step - loss: 0.3140 - accuracy: 0.9298\n",
      "Epoch 72/200\n",
      "750/750 [==============================] - 93s 124ms/step - loss: 0.3041 - accuracy: 0.9318\n",
      "Epoch 73/200\n",
      "750/750 [==============================] - 95s 126ms/step - loss: 0.2938 - accuracy: 0.9347\n",
      "Epoch 74/200\n",
      "750/750 [==============================] - 92s 123ms/step - loss: 0.2861 - accuracy: 0.9364\n",
      "Epoch 75/200\n",
      "750/750 [==============================] - 89s 118ms/step - loss: 0.2781 - accuracy: 0.9377\n",
      "Epoch 76/200\n",
      "750/750 [==============================] - 90s 120ms/step - loss: 0.2701 - accuracy: 0.9398\n",
      "Epoch 77/200\n",
      "750/750 [==============================] - 91s 121ms/step - loss: 0.2617 - accuracy: 0.9415\n",
      "Epoch 78/200\n",
      "750/750 [==============================] - 89s 119ms/step - loss: 0.2531 - accuracy: 0.9434\n",
      "Epoch 79/200\n",
      "750/750 [==============================] - 90s 120ms/step - loss: 0.2458 - accuracy: 0.9451\n",
      "Epoch 80/200\n",
      "750/750 [==============================] - 88s 117ms/step - loss: 0.2404 - accuracy: 0.9462\n",
      "Epoch 81/200\n",
      "750/750 [==============================] - 93s 124ms/step - loss: 0.2370 - accuracy: 0.9470\n",
      "Epoch 82/200\n",
      "750/750 [==============================] - 92s 123ms/step - loss: 0.2265 - accuracy: 0.9491\n",
      "Epoch 83/200\n",
      "750/750 [==============================] - 88s 118ms/step - loss: 0.2189 - accuracy: 0.9512\n",
      "Epoch 84/200\n",
      "750/750 [==============================] - 91s 122ms/step - loss: 0.2147 - accuracy: 0.9514\n",
      "Epoch 85/200\n",
      "750/750 [==============================] - 94s 126ms/step - loss: 0.2109 - accuracy: 0.9523\n",
      "Epoch 86/200\n",
      "750/750 [==============================] - 90s 120ms/step - loss: 0.2072 - accuracy: 0.9531\n",
      "Epoch 87/200\n",
      "750/750 [==============================] - 88s 118ms/step - loss: 0.1997 - accuracy: 0.9548\n",
      "Epoch 88/200\n",
      "750/750 [==============================] - 93s 124ms/step - loss: 0.1928 - accuracy: 0.9563\n",
      "Epoch 89/200\n",
      "750/750 [==============================] - 92s 123ms/step - loss: 0.1864 - accuracy: 0.9578\n",
      "Epoch 90/200\n",
      "750/750 [==============================] - 91s 121ms/step - loss: 0.1841 - accuracy: 0.9582\n",
      "Epoch 91/200\n",
      "750/750 [==============================] - 93s 125ms/step - loss: 0.1831 - accuracy: 0.9582\n",
      "Epoch 92/200\n",
      "750/750 [==============================] - 90s 120ms/step - loss: 0.1811 - accuracy: 0.9585\n",
      "Epoch 93/200\n",
      "750/750 [==============================] - 90s 120ms/step - loss: 0.1755 - accuracy: 0.9600\n",
      "Epoch 94/200\n",
      "750/750 [==============================] - 93s 124ms/step - loss: 0.1698 - accuracy: 0.9612\n",
      "Epoch 95/200\n",
      "750/750 [==============================] - 93s 124ms/step - loss: 0.1657 - accuracy: 0.9621\n",
      "Epoch 96/200\n",
      "750/750 [==============================] - 91s 122ms/step - loss: 0.1597 - accuracy: 0.9634\n",
      "Epoch 97/200\n",
      "750/750 [==============================] - 90s 120ms/step - loss: 0.1604 - accuracy: 0.9632\n",
      "Epoch 98/200\n",
      "750/750 [==============================] - 89s 119ms/step - loss: 0.1576 - accuracy: 0.9636\n",
      "Epoch 99/200\n",
      "750/750 [==============================] - 91s 121ms/step - loss: 0.1565 - accuracy: 0.9638\n",
      "Epoch 100/200\n",
      "750/750 [==============================] - 88s 117ms/step - loss: 0.1548 - accuracy: 0.9640\n",
      "Epoch 101/200\n",
      "750/750 [==============================] - 89s 119ms/step - loss: 0.1516 - accuracy: 0.9648\n",
      "Epoch 102/200\n",
      "750/750 [==============================] - 94s 125ms/step - loss: 0.1422 - accuracy: 0.9672\n",
      "Epoch 103/200\n",
      "750/750 [==============================] - 89s 119ms/step - loss: 0.1398 - accuracy: 0.9675\n",
      "Epoch 104/200\n",
      "750/750 [==============================] - 94s 126ms/step - loss: 0.1410 - accuracy: 0.9672\n",
      "Epoch 105/200\n",
      "750/750 [==============================] - 96s 128ms/step - loss: 0.1397 - accuracy: 0.9672\n",
      "Epoch 106/200\n",
      "750/750 [==============================] - 91s 121ms/step - loss: 0.1396 - accuracy: 0.9673\n",
      "Epoch 107/200\n",
      "750/750 [==============================] - 91s 122ms/step - loss: 0.1447 - accuracy: 0.9653\n",
      "Epoch 107: early stopping\n"
     ]
    },
    {
     "data": {
      "text/plain": [
       "<keras.callbacks.History at 0x1d98baafac0>"
      ]
     },
     "execution_count": 20,
     "metadata": {},
     "output_type": "execute_result"
    }
   ],
   "source": [
    "# generate an early stopping callback to stop training when the validation loss stops improving so that the model doesn't overfit\n",
    "# waits 3 epochs before stopping\n",
    "# use val_loss as the metric because categorical_crossentropy calculates the difference between the predicted and actual values and by monitoring wether or not the loss would be decreasing or increasing we can see if the model is improving or not\n",
    "earlyStopping = tf.keras.callbacks.EarlyStopping(monitor='accuracy', mode='max', verbose=1, min_delta=0.001, patience=5)\n",
    "\n",
    "# Train the model on the training data and evaluate it on the validation data\n",
    "model.fit([input_encoder_train, input_decoder_train], output_decoder_train, epochs=200, callbacks=[earlyStopping])"
   ]
  },
  {
   "cell_type": "code",
   "execution_count": 21,
   "metadata": {},
   "outputs": [
    {
     "name": "stdout",
     "output_type": "stream",
     "text": [
      "188/188 [==============================] - 15s 70ms/step - loss: 5.4765 - accuracy: 0.6028\n",
      "Test loss: [5.476529121398926, 0.6027500033378601]\n"
     ]
    }
   ],
   "source": [
    "# Evaluate the model on the validation set and store the results\n",
    "\n",
    "loss = model.evaluate([input_encoder_val, input_decoder_val], output_decoder_val)\n",
    "print('Test loss:', loss)"
   ]
  },
  {
   "cell_type": "markdown",
   "metadata": {},
   "source": [
    "# Daten abspeichern"
   ]
  },
  {
   "attachments": {},
   "cell_type": "markdown",
   "metadata": {},
   "source": [
    "Um das Model später erneut zu laden wird es in einer Datei gespeichert."
   ]
  },
  {
   "cell_type": "code",
   "execution_count": 22,
   "metadata": {},
   "outputs": [],
   "source": [
    "model.save(f\"models/model_{genre}.h5\")"
   ]
  },
  {
   "cell_type": "markdown",
   "metadata": {},
   "source": [
    "Um die Gewichte des Models später im Interferenzmodel zu verwenden, werden diese in einer Datei gespeichert."
   ]
  },
  {
   "cell_type": "code",
   "execution_count": 23,
   "metadata": {},
   "outputs": [],
   "source": [
    "model.save_weights(f\"models/weights_{genre}.h5\")"
   ]
  },
  {
   "attachments": {},
   "cell_type": "markdown",
   "metadata": {},
   "source": [
    "Um den Tokenizer später im Interferenzmodel zu verwenden, wird dieser in einer Datei gespeichert."
   ]
  },
  {
   "cell_type": "code",
   "execution_count": 24,
   "metadata": {},
   "outputs": [],
   "source": [
    "# save the tokenizer\n",
    "with open(f\"models/tokenizer_{genre}\", 'wb') as handle:\n",
    "    pickle.dump(tokenizer, handle, protocol=pickle.HIGHEST_PROTOCOL)\n"
   ]
  },
  {
   "attachments": {},
   "cell_type": "markdown",
   "metadata": {},
   "source": [
    "## Verwendung des Models"
   ]
  },
  {
   "attachments": {},
   "cell_type": "markdown",
   "metadata": {},
   "source": [
    "Um das Model zu verwenden muss das run_chatbot.py Script ausgeführt werden. Hier wird mit Hilfe des Interferenzmodells der Chatbot erstellt."
   ]
  },
  {
   "cell_type": "code",
   "execution_count": 25,
   "metadata": {},
   "outputs": [
    {
     "name": "stderr",
     "output_type": "stream",
     "text": [
      "Traceback (most recent call last):\n",
      "  File \"c:\\Users\\noah\\source\\repos\\ML-Projekt\\run_chatbot.py\", line 17, in <module>\n",
      "    with open(\"models/tokenizer_lesswords.pickle\", \"rb\") as f:\n",
      "FileNotFoundError: [Errno 2] No such file or directory: 'models/tokenizer_lesswords.pickle'\n"
     ]
    }
   ],
   "source": [
    "!python run_chatbot.py"
   ]
  }
 ],
 "metadata": {
  "kernelspec": {
   "display_name": "Python 3 (ipykernel)",
   "language": "python",
   "name": "python3"
  },
  "language_info": {
   "codemirror_mode": {
    "name": "ipython",
    "version": 3
   },
   "file_extension": ".py",
   "mimetype": "text/x-python",
   "name": "python",
   "nbconvert_exporter": "python",
   "pygments_lexer": "ipython3",
   "version": "3.9.16"
  },
  "vscode": {
   "interpreter": {
    "hash": "9978dee63576bf3eb01fd0099124cb1b0d7ef3663923ee832c1b14872d283213"
   }
  }
 },
 "nbformat": 4,
 "nbformat_minor": 4
}
